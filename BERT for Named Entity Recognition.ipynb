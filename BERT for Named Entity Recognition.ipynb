{
 "cells": [
  {
   "cell_type": "markdown",
   "id": "99ce028f",
   "metadata": {},
   "source": [
    "### NLP-DOTA 2"
   ]
  },
  {
   "cell_type": "code",
   "execution_count": null,
   "id": "a0547e14",
   "metadata": {},
   "outputs": [],
   "source": [
    "## import packages"
   ]
  },
  {
   "cell_type": "code",
   "execution_count": 17,
   "id": "1b1670db",
   "metadata": {},
   "outputs": [],
   "source": [
    "import pandas as pd\n",
    "import numpy as np\n",
    "import math\n",
    "import time\n",
    "import matplotlib.pyplot as plt\n",
    "from collections import Counter"
   ]
  },
  {
   "cell_type": "code",
   "execution_count": 18,
   "id": "211bc9bb",
   "metadata": {},
   "outputs": [],
   "source": [
    "from scipy.stats import norm\n",
    "import matplotlib.pyplot as plt\n",
    "import seaborn as sns\n",
    "import statistics"
   ]
  },
  {
   "cell_type": "code",
   "execution_count": 19,
   "id": "7071735d",
   "metadata": {},
   "outputs": [
    {
     "name": "stderr",
     "output_type": "stream",
     "text": [
      "[nltk_data] Downloading package vader_lexicon to\n",
      "[nltk_data]     /Users/dayan/nltk_data...\n",
      "[nltk_data]   Package vader_lexicon is already up-to-date!\n"
     ]
    }
   ],
   "source": [
    "import spacy\n",
    "from spacy import displacy\n",
    "\n",
    "import nltk\n",
    "from nltk.corpus import wordnet as wn\n",
    "nltk.download('vader_lexicon')\n",
    "from nltk.sentiment.vader import SentimentIntensityAnalyzer\n",
    "\n",
    "import hdbscan\n",
    "import umap\n",
    "\n",
    "from transformers import T5ForConditionalGeneration,T5Tokenizer\n",
    "from transformers import BertModel, BertConfig, BertPreTrainedModel, BertTokenizer\n",
    "from sentence_transformers import SentenceTransformer, util\n",
    "from transformers import TFBertForSequenceClassification\n",
    "from transformers import InputExample, InputFeatures\n",
    "\n",
    "import torch\n",
    "import tensorflow as tf\n",
    "from tabulate import tabulate\n",
    "from torch.nn.functional import softmax\n",
    "\n",
    "from sklearn.feature_extraction.text import CountVectorizer\n",
    "from sklearn.model_selection import train_test_split\n",
    "from sklearn.feature_extraction.text import CountVectorizer\n",
    "from sklearn.linear_model import LogisticRegression\n",
    "from sklearn.metrics import accuracy_score"
   ]
  },
  {
   "cell_type": "code",
   "execution_count": 1,
   "id": "6c281e81",
   "metadata": {},
   "outputs": [],
   "source": [
    "from dask import delayed\n",
    "from dask.distributed import Client\n",
    "\n",
    "pd.options.display.max_rows = 100\n",
    "pd.options.display.max_colwidth = 100"
   ]
  },
  {
   "cell_type": "markdown",
   "id": "1f02c5ce",
   "metadata": {},
   "source": [
    "### Dask Client"
   ]
  },
  {
   "cell_type": "code",
   "execution_count": 3,
   "id": "85c1f4b2",
   "metadata": {},
   "outputs": [
    {
     "data": {
      "text/html": [
       "<table style=\"border: 2px solid white;\">\n",
       "<tr>\n",
       "<td style=\"vertical-align: top; border: 0px solid white\">\n",
       "<h3 style=\"text-align: left;\">Client</h3>\n",
       "<ul style=\"text-align: left; list-style: none; margin: 0; padding: 0;\">\n",
       "  <li><b>Scheduler: </b>tcp://127.0.0.1:59182</li>\n",
       "  <li><b>Dashboard: </b><a href='http://127.0.0.1:8787/status' target='_blank'>http://127.0.0.1:8787/status</a></li>\n",
       "</ul>\n",
       "</td>\n",
       "<td style=\"vertical-align: top; border: 0px solid white\">\n",
       "<h3 style=\"text-align: left;\">Cluster</h3>\n",
       "<ul style=\"text-align: left; list-style:none; margin: 0; padding: 0;\">\n",
       "  <li><b>Workers: </b>8</li>\n",
       "  <li><b>Cores: </b>8</li>\n",
       "  <li><b>Memory: </b>8.00 GiB</li>\n",
       "</ul>\n",
       "</td>\n",
       "</tr>\n",
       "</table>"
      ],
      "text/plain": [
       "<Client: 'tcp://127.0.0.1:59182' processes=8 threads=8, memory=8.00 GiB>"
      ]
     },
     "execution_count": 3,
     "metadata": {},
     "output_type": "execute_result"
    }
   ],
   "source": [
    "client = Client(n_workers=8)\n",
    "\n",
    "client"
   ]
  },
  {
   "cell_type": "markdown",
   "id": "676c453a",
   "metadata": {},
   "source": [
    "### Data Input: Metacritic Reviews for Dota 2"
   ]
  },
  {
   "cell_type": "code",
   "execution_count": 20,
   "id": "22308be3",
   "metadata": {},
   "outputs": [],
   "source": [
    "df = pd.read_csv('MetacriticReviews_DOTA2.csv')"
   ]
  },
  {
   "cell_type": "code",
   "execution_count": 21,
   "id": "92919fb5",
   "metadata": {},
   "outputs": [],
   "source": [
    "reviews = df['review'].to_list()"
   ]
  },
  {
   "cell_type": "code",
   "execution_count": null,
   "id": "a4496bf4",
   "metadata": {},
   "outputs": [],
   "source": [
    "# document = nlp(reviews[4])\n",
    "# document.ents\n",
    "# displacy.render(document, style=\"ent\")"
   ]
  },
  {
   "cell_type": "code",
   "execution_count": null,
   "id": "867c2608",
   "metadata": {},
   "outputs": [],
   "source": [
    "## spacy models"
   ]
  },
  {
   "cell_type": "code",
   "execution_count": 9,
   "id": "654393d4",
   "metadata": {},
   "outputs": [],
   "source": [
    "nlp = spacy.load('en_core_web_sm')\n",
    "nlp_2 = spacy.load('en_core_web_lg')"
   ]
  },
  {
   "cell_type": "code",
   "execution_count": null,
   "id": "716b0e95",
   "metadata": {},
   "outputs": [],
   "source": [
    "## HF-transformers"
   ]
  },
  {
   "cell_type": "code",
   "execution_count": 15,
   "id": "de0e7ad2",
   "metadata": {},
   "outputs": [
    {
     "data": {
      "application/vnd.jupyter.widget-view+json": {
       "model_id": "010d49ebff7c4cb29a1aebfaa50c235b",
       "version_major": 2,
       "version_minor": 0
      },
      "text/plain": [
       "Batches:   0%|          | 0/61 [00:00<?, ?it/s]"
      ]
     },
     "metadata": {},
     "output_type": "display_data"
    }
   ],
   "source": [
    "model_mpnet = SentenceTransformer('sentence-transformers/all-mpnet-base-v1')\n",
    "\n",
    "embeddings_mpnet = model_mpnet.encode(reviews,show_progress_bar=True)"
   ]
  },
  {
   "cell_type": "code",
   "execution_count": 16,
   "id": "155d90eb",
   "metadata": {},
   "outputs": [
    {
     "data": {
      "application/vnd.jupyter.widget-view+json": {
       "model_id": "957453fb48924e54ae2f319730cc2c58",
       "version_major": 2,
       "version_minor": 0
      },
      "text/plain": [
       "Batches:   0%|          | 0/61 [00:00<?, ?it/s]"
      ]
     },
     "metadata": {},
     "output_type": "display_data"
    }
   ],
   "source": [
    "model_dstill = SentenceTransformer('distilbert-base-nli-mean-tokens')\n",
    "\n",
    "embeddings_dstill = model_dstill.encode(reviews,show_progress_bar=True)\n",
    "\n",
    "\n",
    "\n",
    "    \n",
    "    "
   ]
  },
  {
   "cell_type": "code",
   "execution_count": 23,
   "id": "36b3e2f6",
   "metadata": {},
   "outputs": [],
   "source": [
    "umap_embeddings_1 = umap.UMAP(n_neighbors=15, \n",
    "                            n_components=5, \n",
    "                            metric='cosine').fit_transform(embeddings_mpnet)\n",
    "\n",
    "umap_embeddings_2 = umap.UMAP(n_neighbors=15, \n",
    "                            n_components=5, \n",
    "                            metric='cosine').fit_transform(embeddings_dstill)\n"
   ]
  },
  {
   "cell_type": "code",
   "execution_count": 24,
   "id": "5e7bc4d5",
   "metadata": {},
   "outputs": [],
   "source": [
    "\n",
    "cluster_1 = hdbscan.HDBSCAN(min_cluster_size=10,\n",
    "                          metric='euclidean',                      \n",
    "                          cluster_selection_method='eom').fit(umap_embeddings_1)\n",
    "\n",
    "cluster_2 = hdbscan.HDBSCAN(min_cluster_size=10,\n",
    "                          metric='euclidean',                      \n",
    "                          cluster_selection_method='eom').fit(umap_embeddings_2)"
   ]
  },
  {
   "cell_type": "code",
   "execution_count": 25,
   "id": "5e9a65ae",
   "metadata": {},
   "outputs": [],
   "source": [
    "## VADER sentiment analyser\n",
    "\n",
    "sid = SentimentIntensityAnalyzer()"
   ]
  },
  {
   "cell_type": "markdown",
   "id": "42581a4b",
   "metadata": {},
   "source": [
    "## Define important functions"
   ]
  },
  {
   "cell_type": "markdown",
   "id": "0bf467be",
   "metadata": {},
   "source": [
    "#### Class based TF-IDF"
   ]
  },
  {
   "cell_type": "code",
   "execution_count": 26,
   "id": "12552de7",
   "metadata": {},
   "outputs": [],
   "source": [
    "def c_tf_idf(documents, m, ngram_range=(1, 1)):\n",
    "    count = CountVectorizer(ngram_range=ngram_range, stop_words=\"english\").fit(documents)\n",
    "    t = count.transform(documents).toarray()\n",
    "    w = t.sum(axis=1)\n",
    "    tf = np.divide(t.T, w)\n",
    "    sum_t = t.sum(axis=0)\n",
    "    idf = np.log(np.divide(m, sum_t)).reshape(-1, 1)\n",
    "    tf_idf = np.multiply(tf, idf)\n",
    "\n",
    "    return tf_idf, count\n",
    "  \n",
    "#tf_idf, count = c_tf_idf(docs_per_topic.Doc.values, m=len(data))"
   ]
  },
  {
   "cell_type": "code",
   "execution_count": 27,
   "id": "f3b766e1",
   "metadata": {},
   "outputs": [],
   "source": [
    "def extract_top_n_words_per_topic(tf_idf, count, docs_per_topic, n=20):\n",
    "    words = count.get_feature_names()\n",
    "    labels = list(docs_per_topic.Topic)\n",
    "    tf_idf_transposed = tf_idf.T\n",
    "    indices = tf_idf_transposed.argsort()[:, -n:]\n",
    "    top_n_words = {label: [(words[j], tf_idf_transposed[i][j]) for j in indices[i]][::-1] for i, label in enumerate(labels)}\n",
    "    \n",
    "    return top_n_words\n"
   ]
  },
  {
   "cell_type": "code",
   "execution_count": 28,
   "id": "b168b1a9",
   "metadata": {},
   "outputs": [],
   "source": [
    "def extract_topic_sizes(df):\n",
    "    topic_sizes = (df.groupby(['Topic'])\n",
    "                     .Doc\n",
    "                     .count()\n",
    "                     .reset_index()\n",
    "                     .rename({\"Topic\": \"Topic\", \"Doc\": \"Size\"}, axis='columns')\n",
    "                     .sort_values(\"Size\", ascending=False))\n",
    "    return topic_sizes"
   ]
  },
  {
   "cell_type": "code",
   "execution_count": null,
   "id": "b26832a0",
   "metadata": {},
   "outputs": [],
   "source": [
    "##"
   ]
  },
  {
   "cell_type": "code",
   "execution_count": null,
   "id": "f4985150",
   "metadata": {},
   "outputs": [],
   "source": [
    "def convert_data_to_examples(train, test, DATA_COLUMN, LABEL_COLUMN): \n",
    "    \n",
    "    train_InputExamples = train.apply(lambda x: InputExample(guid=None, # Globally unique ID for bookkeeping, unused in this case\n",
    "                                                          text_a = x[DATA_COLUMN], \n",
    "                                                          text_b = None,\n",
    "                                                          label = x[LABEL_COLUMN]), axis = 1)\n",
    "\n",
    "    validation_InputExamples = test.apply(lambda x: InputExample(guid=None, # Globally unique ID for bookkeeping, unused in this case\n",
    "                                                          text_a = x[DATA_COLUMN], \n",
    "                                                          text_b = None,\n",
    "                                                          label = x[LABEL_COLUMN]), axis = 1)\n",
    "  \n",
    "    return train_InputExamples, validation_InputExamples\n",
    "\n",
    "    train_InputExamples, validation_InputExamples = convert_data_to_examples(train, \n",
    "                                                                           test, \n",
    "                                                                           'DATA_COLUMN', \n",
    "                                                                           'LABEL_COLUMN')"
   ]
  },
  {
   "cell_type": "code",
   "execution_count": null,
   "id": "5498e199",
   "metadata": {},
   "outputs": [],
   "source": [
    "def convert_examples_to_tf_dataset(examples, tokenizer, max_length=128):\n",
    "    features = [] # -> will hold InputFeatures to be converted later\n",
    "\n",
    "    for e in examples:\n",
    "        # Documentation is really strong for this method, so please take a look at it\n",
    "        input_dict = tokenizer.encode_plus(\n",
    "            e.text_a,\n",
    "            add_special_tokens=True,\n",
    "            max_length=max_length, # truncates if len(s) > max_length\n",
    "            return_token_type_ids=True,\n",
    "            return_attention_mask=True,\n",
    "            pad_to_max_length=True, # pads to the right by default # CHECK THIS for pad_to_max_length\n",
    "            truncation=True\n",
    "        )\n",
    "\n",
    "        input_ids, token_type_ids, attention_mask = (input_dict[\"input_ids\"],\n",
    "            input_dict[\"token_type_ids\"], input_dict['attention_mask'])\n",
    "\n",
    "        features.append(\n",
    "            InputFeatures(\n",
    "                input_ids=input_ids, attention_mask=attention_mask, token_type_ids=token_type_ids, label=e.label\n",
    "            )\n",
    "        )\n",
    "        \n",
    "        def gen():\n",
    "        for f in features:\n",
    "            yield (\n",
    "                {\n",
    "                    \"input_ids\": f.input_ids,\n",
    "                    \"attention_mask\": f.attention_mask,\n",
    "                    \"token_type_ids\": f.token_type_ids,\n",
    "                },\n",
    "                f.label,\n",
    "            )\n",
    "\n",
    "    return tf.data.Dataset.from_generator(\n",
    "        gen,\n",
    "        ({\"input_ids\": tf.int32, \"attention_mask\": tf.int32, \"token_type_ids\": tf.int32}, tf.int64),\n",
    "        (\n",
    "            {\n",
    "                \"input_ids\": tf.TensorShape([None]),\n",
    "                \"attention_mask\": tf.TensorShape([None]),\n",
    "                \"token_type_ids\": tf.TensorShape([None]),\n",
    "            },\n",
    "            tf.TensorShape([]),\n",
    "        ),\n",
    "    )\n"
   ]
  },
  {
   "cell_type": "code",
   "execution_count": null,
   "id": "7b84dd24",
   "metadata": {},
   "outputs": [],
   "source": [
    "DATA_COLUMN = 'DATA_COLUMN'\n",
    "LABEL_COLUMN = 'LABEL_COLUMN'"
   ]
  },
  {
   "cell_type": "markdown",
   "id": "73d9b080",
   "metadata": {},
   "source": [
    "## Topic Modelling "
   ]
  },
  {
   "cell_type": "code",
   "execution_count": 29,
   "id": "7c538cdd",
   "metadata": {},
   "outputs": [],
   "source": [
    "docs_df = pd.DataFrame(reviews, columns=[\"Doc\"])\n",
    "docs_df['Topic'] = cluster_1.labels_\n",
    "docs_df['Doc_ID'] = range(len(docs_df))\n",
    "docs_per_topic = docs_df.groupby(['Topic'], as_index = False).agg({'Doc': ' '.join})"
   ]
  },
  {
   "cell_type": "code",
   "execution_count": 30,
   "id": "a17796a0",
   "metadata": {},
   "outputs": [],
   "source": [
    "docs_df_2 = pd.DataFrame(reviews, columns=[\"Doc\"])\n",
    "docs_df_2['Topic'] = cluster_2.labels_\n",
    "docs_df_2['Doc_ID'] = range(len(docs_df))\n",
    "docs_per_topic_2 = docs_df_2.groupby(['Topic'], as_index = False).agg({'Doc': ' '.join})"
   ]
  },
  {
   "cell_type": "code",
   "execution_count": 31,
   "id": "ef87bd84",
   "metadata": {},
   "outputs": [],
   "source": [
    "tf_idf_1, count_1 = c_tf_idf(docs_per_topic.Doc.values, m=len(reviews))\n",
    "\n",
    "tf_idf_2, count_2 = c_tf_idf(docs_per_topic_2.Doc.values, m=len(reviews))"
   ]
  },
  {
   "cell_type": "code",
   "execution_count": 35,
   "id": "b6dc8275",
   "metadata": {},
   "outputs": [],
   "source": [
    "top_n_words_1 = extract_top_n_words_per_topic(tf_idf_1, count_1, docs_per_topic, n=20)"
   ]
  },
  {
   "cell_type": "code",
   "execution_count": 36,
   "id": "5044360c",
   "metadata": {},
   "outputs": [
    {
     "data": {
      "text/plain": [
       "{-1: [('hats', 0.025624276446511843),\n",
       "  ('valve', 0.02265842762112638),\n",
       "  ('got', 0.021260349253270947),\n",
       "  ('dota', 0.020080328316072003),\n",
       "  ('community', 0.019556202107251217),\n",
       "  ('event', 0.018939125582812317),\n",
       "  ('just', 0.018799344640577274),\n",
       "  ('bad', 0.018495774347705083),\n",
       "  ('diretidegive', 0.018339006068664867),\n",
       "  ('new', 0.016364635411228946),\n",
       "  ('play', 0.015676220955680935),\n",
       "  ('heroes', 0.015160504586013665),\n",
       "  ('thanks', 0.015113238191668349),\n",
       "  ('mad', 0.014915866313551246),\n",
       "  ('don', 0.014196417688165184),\n",
       "  ('good', 0.01414559609989693),\n",
       "  ('2013', 0.013412968813505642),\n",
       "  ('people', 0.01326834673107396),\n",
       "  ('10', 0.013199882279799822),\n",
       "  ('want', 0.013096638947969327)],\n",
       " 0: [('fuvolvo', 1.0585996653557315),\n",
       "  ('diretidediretidediretidediretidediretidediretidediretidediretidediretidediretidediretidediretidediretidediretidediretidediretidediretidediretidediretidediretidediretidediretidediretidediretidediretidediretidediretidediretidediretidediretidediretidediretidediretidediretidediretidediretidediretidediretidediretidediretidediretidediretidediretidediretidediretidediretidediretidediretide',\n",
       "   0.5826188465670923),\n",
       "  ('diretirediretirediretirediretirediretirediretirediretirediretirediretirediretirediretirediretirediretirediretirediretirediretirediretirediretirediretire',\n",
       "   0.5826188465670923),\n",
       "  ('diretidediretidediretidediretidediretidediretidediretidediretidediretidediretidediretidediretidediretidediretidediretidediretidediretidediretidediretidediretidediretidediretidediretidediretidediretidediretidediretidediretidediretidediretidediretidediretidediretidediretidediretidediretidediretidediretidediretidediretidediretidediretidediretidediretidediretide',\n",
       "   0.5826188465670923),\n",
       "  ('valvevalvevalvevalvevalvevalvevalvevalvevalvevalvevalvevalvevalvevalvevalvevalvevalvevalvevalvevalvevalvevalvevalvevalvevalvevalvevalvevalvevalvevalvevalvevalvevalvevalvevalvevalvevalvevalvevalvevalvevalvevalvevalvevalvevalvevalvevalvevalvevalve',\n",
       "   0.5826188465670923),\n",
       "  ('diretidediretidediretidediretidediretidediretidediretidediretidediretidediretidediretidediretidediretidediretidediretidediretidediretidediretidediretidediretide',\n",
       "   0.5826188465670923),\n",
       "  ('oooooooooooooooooooooooooooooooooooooooooooooooooooooooooooooooooooooooooooooooooooooooooooooooooooooooooooooooooooooooooooooooooooooooooooooooooooooooooooooooooooooooooooooooooooo',\n",
       "   0.5826188465670923),\n",
       "  ('ggdiretidediretidediretidediretidediretidediretidediretidediretidediretidediretidediretidediretidediretidediretidediretidediretidediretidediretidediretidediretidediretidediretide',\n",
       "   0.5826188465670923),\n",
       "  ('fuvolvofuvolvofuvolvofuvolvofuvolvofuvolvofuvolvofuvolvofuvolvofuvolvofuvolvofuvolvofuvolvofuvolvofuvolvofuvolvofuvolvofuvolvofuvolvofuvolvofuvolvofuvolvofuvolvofuvolvofuvolvofuvolvo',\n",
       "   0.5826188465670923),\n",
       "  ('hrewhoaaaaaaaaaaaaafdhhhhhhhhhhhhhhhhhhhhhhhhhhhhhhhhhhhhhhhhhhhhhhhhhhhhhhhhhhhhhhhhhhhhhhhhhhhhhhhhhhhhhhhhhhhhhhhhhhhhhhhhhhhhhhhhhhhhhhhhhhhhhhhhhhhhhhhhhhhhhhhhhhhhhhhhhhhhhhhhhhhhhhhhhhhhhhhhhhhhhhhhhhhhhhhhhhhhhhhhhhhhhhhhhhhhhhhhhhhhhhhhhhhhhhhhhhhhhhhhhhhhhhhhhhhhhhhhhhhhhhhhhhhhhhhhhhhhhhhhhhhh',\n",
       "   0.5826188465670923),\n",
       "  ('fdfdfdfdfdfdfdfdfdfdfdfdfdfdfdfdfdfdfdfdfdfdfdfdfdfdfdfdfdfdfdfdfdfdfdfdfdfdfdfdfdfdfdfdfdfdfdfdfdfdfdfdfdfdfdfdfdfdfdfdfdfdfdfdfdfdfdfdfdfdfdfdfdfdfdfdfdfdfdfdfdfdfdfdfdfdfdfdfdfdfdfdfdfdfdfdfdfdfdfdfdfdfdfdfd',\n",
       "   0.5826188465670923),\n",
       "  ('adasdadadadasdadqeqweqweqeqeqweadasdadadadasdadqeqweqweqeqeqweadasdadadadasdadqeqweqweqeqeqweadasdadadadasdadqeqweqweqeqeqweadasdadadadasdadqeqweqweqeqeqweadasdadadadasdadqeqweqweqeqeqwe',\n",
       "   0.5826188465670923),\n",
       "  ('experiencia', 0.0),\n",
       "  ('expirience', 0.0),\n",
       "  ('explain', 0.0),\n",
       "  ('explained', 0.0),\n",
       "  ('explaining', 0.0),\n",
       "  ('explains', 0.0),\n",
       "  ('existe', 0.0),\n",
       "  ('exploit', 0.0)],\n",
       " 1: [('sets', 0.2848838181512421),\n",
       "  ('herono', 0.25570045990717183),\n",
       "  ('diretideno', 0.24246355252217813),\n",
       "  ('updatesno', 0.2086170403911574),\n",
       "  ('new', 0.20254765391407778),\n",
       "  ('normal', 0.18658563788674432),\n",
       "  ('updates', 0.18555207024766696),\n",
       "  ('tickets', 0.1846332097163749),\n",
       "  ('ticketsnew', 0.1769892436425061),\n",
       "  ('matchmaking', 0.1459892839307918),\n",
       "  ('systemnew', 0.110332964363036),\n",
       "  ('systemno', 0.10819149264956067),\n",
       "  ('updated', 0.061496675052924735),\n",
       "  ('hatsmore', 0.03033467129194323),\n",
       "  ('players', 0.02802078898057828),\n",
       "  ('communicate', 0.02795303411496579),\n",
       "  ('information', 0.025569884330346848),\n",
       "  ('nuevos', 0.025163598640041803),\n",
       "  ('damned', 0.025163598640041803),\n",
       "  ('la', 0.021870990374288416)],\n",
       " 2: [('everbest', 0.20961464963262208),\n",
       "  ('alive', 0.15019461330506698),\n",
       "  ('best', 0.12600601876027787),\n",
       "  ('bestgame', 0.11871104374673055),\n",
       "  ('gaemalive', 0.11188701619044437),\n",
       "  ('trash', 0.1084213704996321),\n",
       "  ('forgiven', 0.10493068774400412),\n",
       "  ('beatiful', 0.10493068774400412),\n",
       "  ('tears', 0.10493068774400412),\n",
       "  ('dreams', 0.10032978977876268),\n",
       "  ('shi', 0.09783100869125792),\n",
       "  ('mistakes', 0.08821047710036846),\n",
       "  ('gaem', 0.08696508465694155),\n",
       "  ('cancer', 0.0763142424086125),\n",
       "  ('dont', 0.07118197551545831),\n",
       "  ('played', 0.06781807012806648),\n",
       "  ('awesome', 0.05833222426822577),\n",
       "  ('greatest', 0.048285291211093144),\n",
       "  ('just', 0.04594946177239404),\n",
       "  ('games', 0.04471577775176574)],\n",
       " 3: [('icefrog', 0.27276223601014377),\n",
       "  ('nice', 0.13782584782856094),\n",
       "  ('detailed', 0.10795668946494298),\n",
       "  ('job', 0.08028717906418667),\n",
       "  ('did', 0.06268183060993464),\n",
       "  ('valvebalanced', 0.06227056855033715),\n",
       "  ('hiring', 0.06227056855033715),\n",
       "  ('goty', 0.05860120105614562),\n",
       "  ('actually', 0.0561998796500505),\n",
       "  ('greatly', 0.05397834473247149),\n",
       "  ('perfect', 0.04457355969534582),\n",
       "  ('playing', 0.04340081941716508),\n",
       "  ('competitive', 0.043330566118076716),\n",
       "  ('great', 0.039884706162794104),\n",
       "  ('valve', 0.036940243966004246),\n",
       "  ('balanced', 0.03562406195154583),\n",
       "  ('alpha', 0.03427169685688778),\n",
       "  ('plaaaaaaaaaays', 0.03427169685688778),\n",
       "  ('bringed', 0.03427169685688778),\n",
       "  ('glory', 0.03427169685688778)],\n",
       " 4: [('intence', 0.19144094127589467),\n",
       "  ('gamplay', 0.19144094127589467),\n",
       "  ('90', 0.17038956367330824),\n",
       "  ('currently', 0.1669674278160395),\n",
       "  ('choose', 0.16536643918586538),\n",
       "  ('hesitant', 0.16226174710262783),\n",
       "  ('know', 0.15886273394898792),\n",
       "  ('released', 0.15338698848548163),\n",
       "  ('implemented', 0.15051587094458993),\n",
       "  ('beta', 0.1490831508236229),\n",
       "  ('comers', 0.1460355723923651),\n",
       "  ('alot', 0.14512871555503945),\n",
       "  ('rewarding', 0.14008391487130312),\n",
       "  ('tutorial', 0.1391395231800329),\n",
       "  ('improved', 0.13857575668561328),\n",
       "  ('help', 0.12779217275498117),\n",
       "  ('people', 0.12055478421738172),\n",
       "  ('bash', 0.10875772168296198),\n",
       "  ('try', 0.10208642294156392),\n",
       "  ('think', 0.1016712120716573)],\n",
       " 5: [('given', 0.24694093138447118),\n",
       "  ('dlretldegive', 0.15157526796392728),\n",
       "  ('dlretlde', 0.0853482847483077),\n",
       "  ('need', 0.08307789763616157),\n",
       "  ('bad', 0.06601989208052761),\n",
       "  ('cyka', 0.041135221330607576),\n",
       "  ('diretidegive', 0.02522324036195108),\n",
       "  ('diret', 0.023727233878662945),\n",
       "  ('just', 0.005763488524037357),\n",
       "  ('eyar', 0.0),\n",
       "  ('exploit', 0.0),\n",
       "  ('expirience', 0.0),\n",
       "  ('explain', 0.0),\n",
       "  ('explained', 0.0),\n",
       "  ('explaining', 0.0),\n",
       "  ('explains', 0.0),\n",
       "  ('explotes', 0.0),\n",
       "  ('eyes', 0.0),\n",
       "  ('f2p', 0.0),\n",
       "  ('ezno', 0.0)],\n",
       " 6: [('plsvalve', 0.24395109184766414),\n",
       "  ('plsdiretide', 0.22101375139842958),\n",
       "  ('diretidegive', 0.11253445699947406),\n",
       "  ('azazaz', 0.09176318604520153),\n",
       "  ('azazazazaz', 0.07615693100618226),\n",
       "  ('azazaza', 0.04234398661422926),\n",
       "  ('vgive', 0.04234398661422926),\n",
       "  ('azazazaza', 0.04234398661422926),\n",
       "  ('azazazaz', 0.04234398661422926),\n",
       "  ('azazazazazaz', 0.02330475386268369),\n",
       "  ('aza', 0.02330475386268369),\n",
       "  ('plspllz', 0.02330475386268369),\n",
       "  ('diretid', 0.01992440835908951),\n",
       "  ('pls', 0.011524318796563399),\n",
       "  ('explotes', 0.0),\n",
       "  ('exploit', 0.0),\n",
       "  ('explains', 0.0),\n",
       "  ('extra', 0.0),\n",
       "  ('explaining', 0.0),\n",
       "  ('explained', 0.0)],\n",
       " 7: [('given', 0.30039855623099715),\n",
       "  ('soon', 0.18906737866902137),\n",
       "  ('raise', 0.15794636441582482),\n",
       "  ('raiting', 0.11169676204003931),\n",
       "  ('dont', 0.10344047378276339),\n",
       "  ('good', 0.03489921325837697),\n",
       "  ('extremely', 0.0),\n",
       "  ('explained', 0.0),\n",
       "  ('experience', 0.0),\n",
       "  ('experiences', 0.0),\n",
       "  ('experiencia', 0.0),\n",
       "  ('eyes', 0.0),\n",
       "  ('expirience', 0.0),\n",
       "  ('explain', 0.0),\n",
       "  ('explaining', 0.0),\n",
       "  ('extraordinary', 0.0),\n",
       "  ('explains', 0.0),\n",
       "  ('eyar', 0.0),\n",
       "  ('expense', 0.0),\n",
       "  ('exploit', 0.0)],\n",
       " 8: [('gavno', 0.195285745324861),\n",
       "  ('deretideno', 0.18162204365240958),\n",
       "  ('coming', 0.13171548045739168),\n",
       "  ('igra', 0.1008723895988054),\n",
       "  ('ololo', 0.09602147840724905),\n",
       "  ('na', 0.09573545946098813),\n",
       "  ('comeback', 0.08001789867270755),\n",
       "  ('diretidegive', 0.0728406993681082),\n",
       "  ('diretideno', 0.05886222092676777),\n",
       "  ('dislikewhare', 0.04689156519605424),\n",
       "  ('diretadi', 0.030544493946717405),\n",
       "  ('diretade', 0.02813493911763254),\n",
       "  ('volve', 0.025917940866473414),\n",
       "  ('rly', 0.024415800625348247),\n",
       "  ('plssbad', 0.021638043474252373),\n",
       "  ('fan', 0.02073580742935969),\n",
       "  ('plss', 0.011908875794610377),\n",
       "  ('iretidegive', 0.011908875794610377),\n",
       "  ('aal', 0.011908875794610377),\n",
       "  ('diretidediretide', 0.011908875794610377)],\n",
       " 9: [('long', 0.05116896108969583),\n",
       "  ('beginner', 0.050253880898775034),\n",
       "  ('words', 0.04791250170637807),\n",
       "  ('discovered', 0.04606130020524601),\n",
       "  ('friendly', 0.04602749185743673),\n",
       "  ('really', 0.04341756740347924),\n",
       "  ('unsupportive', 0.0426765317568339),\n",
       "  ('time', 0.03994563450893006),\n",
       "  ('match', 0.03910897281493649),\n",
       "  ('hoped', 0.03824946018856136),\n",
       "  ('surprise', 0.03734196528722966),\n",
       "  ('community', 0.03659681948124581),\n",
       "  ('comunnity', 0.03654149805461346),\n",
       "  ('hooked', 0.0345863771738732),\n",
       "  ('worst', 0.03424445845214638),\n",
       "  ('going', 0.02931149097258722),\n",
       "  ('waste', 0.02761649511446204),\n",
       "  ('play', 0.02722998850410261),\n",
       "  ('player', 0.026072454087011476),\n",
       "  ('just', 0.025963676457799352)],\n",
       " 10: [('garbage', 0.18880394553962174),\n",
       "  ('results', 0.13411071504326902),\n",
       "  ('load', 0.13411071504326902),\n",
       "  ('reenter', 0.13411071504326902),\n",
       "  ('systemgarbage', 0.1323735959401948),\n",
       "  ('matchmakinggarbage', 0.13225625510829836),\n",
       "  ('able', 0.1280263362779932),\n",
       "  ('engine', 0.125723927448164),\n",
       "  ('report', 0.12182971183243771),\n",
       "  ('queue0', 0.12004739999165835),\n",
       "  ('visibility', 0.11819071066088818),\n",
       "  ('visible', 0.11730545005482508),\n",
       "  ('ladders', 0.11561268538212846),\n",
       "  ('mmr', 0.10775039150987067),\n",
       "  ('turn', 0.10418705805506757),\n",
       "  ('locks', 0.10165907098170338),\n",
       "  ('region', 0.09643388654227604),\n",
       "  ('created', 0.0920979403825688),\n",
       "  ('perfect', 0.0869073279368787),\n",
       "  ('worst', 0.08456029968764568)],\n",
       " 11: [('sucksvalve', 0.18962086015748753),\n",
       "  ('need', 0.15599518908660553),\n",
       "  ('dont', 0.14902125809351344),\n",
       "  ('delete', 0.1347819639561449),\n",
       "  ('half', 0.11528125583714913),\n",
       "  ('yeas', 0.1072771059880953),\n",
       "  ('blizzarddota', 0.1072771059880953),\n",
       "  ('waiting', 0.10267180614151093),\n",
       "  ('dota2', 0.0969597808915463),\n",
       "  ('nights', 0.09670540338194208),\n",
       "  ('piece', 0.09153126538820502),\n",
       "  ('dota1', 0.08875877114670758),\n",
       "  ('playing', 0.08625522564022915),\n",
       "  ('rest', 0.0852667564984889),\n",
       "  ('life', 0.08446676655170018),\n",
       "  ('days', 0.07762497243436542),\n",
       "  ('event', 0.07726594530857195),\n",
       "  ('cya', 0.06987877032414487),\n",
       "  ('coming', 0.06550754267352292),\n",
       "  ('years', 0.06473382791803202)],\n",
       " 12: [('moba', 0.09175368510617353),\n",
       "  ('best', 0.04845744873693782),\n",
       "  ('lol', 0.03659000237568082),\n",
       "  ('mobas', 0.02784473634791232),\n",
       "  ('like', 0.0277949440939221),\n",
       "  ('great', 0.02737428590676241),\n",
       "  ('play', 0.026130641142135737),\n",
       "  ('curve', 0.02570935658641991),\n",
       "  ('balanced', 0.024450054941899464),\n",
       "  ('mechanics', 0.02413146305129356),\n",
       "  ('genre', 0.02413146305129356),\n",
       "  ('steep', 0.023978092786757093),\n",
       "  ('really', 0.023756179614767368),\n",
       "  ('learning', 0.023697643077043164),\n",
       "  ('awesome', 0.021965162088578804),\n",
       "  ('requires', 0.02156648769971627),\n",
       "  ('playing', 0.020478919255265588),\n",
       "  ('skill', 0.018098597288470172),\n",
       "  ('hard', 0.017845573718607656),\n",
       "  ('graphics', 0.017771629957434944)],\n",
       " 13: [('play', 0.036103717820141476),\n",
       "  ('fun', 0.03333290567419897),\n",
       "  ('good', 0.03240708786716224),\n",
       "  ('free', 0.030289714112015927),\n",
       "  ('learning', 0.02688301732262945),\n",
       "  ('played', 0.026216932896630196),\n",
       "  ('best', 0.025723595077020336),\n",
       "  ('time', 0.024261871004934557),\n",
       "  ('friends', 0.02403287995174591),\n",
       "  ('great', 0.023887588243841455),\n",
       "  ('playing', 0.023827324300616147),\n",
       "  ('hours', 0.021905471672471682),\n",
       "  ('ve', 0.021691507468740826),\n",
       "  ('games', 0.019892322226864306),\n",
       "  ('competitive', 0.018742655293169888),\n",
       "  ('lot', 0.017922011548419638),\n",
       "  ('learn', 0.017579262885490696),\n",
       "  ('gameplay', 0.017101378848648246),\n",
       "  ('really', 0.01700949723789611),\n",
       "  ('hard', 0.016314110752692814)],\n",
       " 14: [('10', 0.17088859567523584),\n",
       "  ('great', 0.09134217680805695),\n",
       "  ('fixes', 0.08944970916789052),\n",
       "  ('really', 0.04268348254418943),\n",
       "  ('bugs', 0.04000490091883826),\n",
       "  ('spend', 0.032176615032800934),\n",
       "  ('good', 0.028968155253844507),\n",
       "  ('value', 0.02595386346067701),\n",
       "  ('overall', 0.023469028847921125),\n",
       "  ('deserves', 0.02277715634727593),\n",
       "  ('believe', 0.022166881551128864),\n",
       "  ('feel', 0.021978448161642468),\n",
       "  ('lots', 0.021620972143575362),\n",
       "  ('depth', 0.020822263957941893),\n",
       "  ('thank', 0.019877592679216745),\n",
       "  ('goodies', 0.019621878252259584),\n",
       "  ('timelike', 0.019621878252259584),\n",
       "  ('goodi', 0.019621878252259584),\n",
       "  ('goodholy', 0.019621878252259584),\n",
       "  ('suggestion', 0.019621878252259584)],\n",
       " 15: [('great', 0.048415780631217264),\n",
       "  ('valve', 0.045427681100537624),\n",
       "  ('lot', 0.039447579041333246),\n",
       "  ('beta', 0.03841480219122431),\n",
       "  ('awesome', 0.03656365592257124),\n",
       "  ('10', 0.03196914277737046),\n",
       "  ('developers', 0.028958489166461432),\n",
       "  ('yo', 0.02890762726787447),\n",
       "  ('really', 0.026616840487975964),\n",
       "  ('incredibly', 0.024276715579534716),\n",
       "  ('better', 0.024221691665315407),\n",
       "  ('like', 0.023134014858140012),\n",
       "  ('job', 0.022931782323987404),\n",
       "  ('did', 0.022379134999669717),\n",
       "  ('wc3dota', 0.02223230314963572),\n",
       "  ('time', 0.022156167767473322),\n",
       "  ('little', 0.02110744352425201),\n",
       "  ('everybody', 0.020922238179980908),\n",
       "  ('problem', 0.02091735929249136),\n",
       "  ('best', 0.020165813884709508)],\n",
       " 16: [('dota', 0.05041209670538272),\n",
       "  ('best', 0.029752052211789372),\n",
       "  ('played', 0.028284293579707687),\n",
       "  ('graphics', 0.02424773239955107),\n",
       "  ('playing', 0.02413136132583106),\n",
       "  ('great', 0.023343538299728538),\n",
       "  ('moba', 0.02216894739897572),\n",
       "  ('good', 0.021715887572002785),\n",
       "  ('fun', 0.021649005165061564),\n",
       "  ('ve', 0.021582882816547595),\n",
       "  ('better', 0.021176874492698075),\n",
       "  ('free', 0.020105560554446133),\n",
       "  ('play', 0.020054713461310745),\n",
       "  ('games', 0.01908582495630288),\n",
       "  ('competitive', 0.01859756465978893),\n",
       "  ('dota1', 0.018297094136810695),\n",
       "  ('nice', 0.01792579588636533),\n",
       "  ('lots', 0.017681557727584934),\n",
       "  ('curve', 0.01753901021361697),\n",
       "  ('awesome', 0.016483178838505533)],\n",
       " 17: [('dota', 0.06662182187649163),\n",
       "  ('score', 0.03948696776568349),\n",
       "  ('user', 0.03903510112508124),\n",
       "  ('lol', 0.03776275886208085),\n",
       "  ('ass', 0.033180447003678386),\n",
       "  ('exacerbate', 0.03113188806107736),\n",
       "  ('situation', 0.028675995639125477),\n",
       "  ('better', 0.02803220886373175),\n",
       "  ('actions', 0.0277994496930007),\n",
       "  ('playing', 0.026899466201263773),\n",
       "  ('amazing', 0.026874245310198754),\n",
       "  ('really', 0.02640356452252744),\n",
       "  ('scores', 0.023725902287292988),\n",
       "  ('don', 0.02300251399115495),\n",
       "  ('evil', 0.02205415969491107),\n",
       "  ('lego', 0.02205415969491107),\n",
       "  ('grafics', 0.02205415969491107),\n",
       "  ('fun', 0.021834039397241576),\n",
       "  ('10', 0.021141986516231105),\n",
       "  ('russians', 0.021134572956847376)],\n",
       " 18: [('dota', 0.08035367783740414),\n",
       "  ('best', 0.04669104554576545),\n",
       "  ('moba', 0.030809203477344994),\n",
       "  ('fun', 0.02965057798450216),\n",
       "  ('play', 0.02899297470213755),\n",
       "  ('competitive', 0.02605020433105265),\n",
       "  ('games', 0.025050866367503814),\n",
       "  ('curve', 0.023420972071981225),\n",
       "  ('multiplayer', 0.02186451003200645),\n",
       "  ('learning', 0.021588320766159453),\n",
       "  ('experience', 0.02123809927149486),\n",
       "  ('time', 0.021141580832165555),\n",
       "  ('team', 0.020678949454458848),\n",
       "  ('rewarding', 0.02026059523211176),\n",
       "  ('free', 0.01927566835600726),\n",
       "  ('possible', 0.018055398057242593),\n",
       "  ('install', 0.017936681600736772),\n",
       "  ('great', 0.017264565953818818),\n",
       "  ('steep', 0.016802929003995177),\n",
       "  ('dota2', 0.01649846108478297)],\n",
       " 19: [('russians', 0.14295906260241478),\n",
       "  ('servers', 0.0804685188790758),\n",
       "  ('eu', 0.07445262145924614),\n",
       "  ('match', 0.06946925203145901),\n",
       "  ('matchmaking', 0.05975807380412051),\n",
       "  ('english', 0.05828531629307296),\n",
       "  ('russian', 0.05828531629307296),\n",
       "  ('zone', 0.05030691580692934),\n",
       "  ('needs', 0.04765302086747159),\n",
       "  ('speak', 0.04467157287554768),\n",
       "  ('angry', 0.04072435486106231),\n",
       "  ('bad', 0.04035542936569438),\n",
       "  ('smurfs', 0.03729483915887401),\n",
       "  ('tard', 0.03729483915887401),\n",
       "  ('rampant', 0.03729483915887401),\n",
       "  ('ru', 0.03729483915887401),\n",
       "  ('report', 0.037020725441870225),\n",
       "  ('intentionally', 0.035097196296499135),\n",
       "  ('server', 0.03478217999486074),\n",
       "  ('don', 0.032415466871004266)],\n",
       " 20: [('halloween', 0.34622642429095407),\n",
       "  ('happy', 0.23104675516298329),\n",
       "  ('thanks', 0.08442441272663018),\n",
       "  ('eventthank', 0.06568950542883369),\n",
       "  ('event', 0.06308350307131572),\n",
       "  ('dear', 0.06198386405635337),\n",
       "  ('valve', 0.05993974975394228),\n",
       "  ('thx', 0.05237612897878381),\n",
       "  ('great', 0.050479630310884344),\n",
       "  ('ty', 0.04433309207307612),\n",
       "  ('amazing', 0.0369372887082908),\n",
       "  ('tipple', 0.030312325219437247),\n",
       "  ('events', 0.02981841641714339),\n",
       "  ('shocking', 0.02852613531587705),\n",
       "  ('31', 0.02852613531587705),\n",
       "  ('blatantly', 0.02852613531587705),\n",
       "  ('expects', 0.02852613531587705),\n",
       "  ('community', 0.027676008858798225),\n",
       "  ('october', 0.027258813410803124),\n",
       "  ('waiting', 0.026944080025808722)],\n",
       " 21: [('tickets', 0.3280822801656112),\n",
       "  ('choo', 0.2586617362609157),\n",
       "  ('sets', 0.17011020564613447),\n",
       "  ('new', 0.16932373554135427),\n",
       "  ('tiretide', 0.1556498647655856),\n",
       "  ('vavlegg', 0.14891129695983485),\n",
       "  ('patch', 0.1488814404587195),\n",
       "  ('hatsmore', 0.1455378692718542),\n",
       "  ('train', 0.14149987705962325),\n",
       "  ('hype', 0.13940643151855767),\n",
       "  ('updates', 0.12603861102124567),\n",
       "  ('normal', 0.07076596042670923),\n",
       "  ('kotlmore', 0.0699180863757323),\n",
       "  ('hats', 0.06675472778222773),\n",
       "  ('matchmaking', 0.055369062733761375),\n",
       "  ('setsmore', 0.054876548446644836),\n",
       "  ('hero', 0.0536712661216771),\n",
       "  ('pls', 0.05290118091642804),\n",
       "  ('ticketsgg', 0.038875128953741546),\n",
       "  ('unfortunately', 0.03037751654257616)],\n",
       " 22: [('developers', 0.07127357770989912),\n",
       "  ('content', 0.05482164008472538),\n",
       "  ('hate', 0.05442024555605939),\n",
       "  ('money', 0.0459858614211544),\n",
       "  ('developer', 0.03994728572448097),\n",
       "  ('community', 0.036082130392009526),\n",
       "  ('lack', 0.03195782857958477),\n",
       "  ('care', 0.03185484247420654),\n",
       "  ('play', 0.030667571545873025),\n",
       "  ('just', 0.02990597424997515),\n",
       "  ('devs', 0.028636916201585),\n",
       "  ('updates', 0.028011510914421448),\n",
       "  ('terrible', 0.02794116894493662),\n",
       "  ('communications', 0.0273594346911024),\n",
       "  ('service', 0.02574724738252123),\n",
       "  ('getting', 0.024502837589895465),\n",
       "  ('players', 0.023892256563956743),\n",
       "  ('customers', 0.022991194974728207),\n",
       "  ('customer', 0.022991194974728207),\n",
       "  ('playerbase', 0.021847329875516356)],\n",
       " 23: [('dota', 0.05109119936031834),\n",
       "  ('valve', 0.04101733209008346),\n",
       "  ('money', 0.03619857323136254),\n",
       "  ('dota2', 0.029972000468328246),\n",
       "  ('community', 0.028977631547075448),\n",
       "  ('new', 0.027046392926900822),\n",
       "  ('incomplete', 0.02571809726972933),\n",
       "  ('hats', 0.023773816534113295),\n",
       "  ('heroes', 0.023476158645163656),\n",
       "  ('bugs', 0.022893835069935607),\n",
       "  ('sucks', 0.021482879619132225),\n",
       "  ('don', 0.02128030945957107),\n",
       "  ('content', 0.02044127869726973),\n",
       "  ('communication', 0.018953040537859712),\n",
       "  ('ruined', 0.018710522648120353),\n",
       "  ('just', 0.01858500747187732),\n",
       "  ('make', 0.018212543565769068),\n",
       "  ('items', 0.017848461461256418),\n",
       "  ('events', 0.01756169892025235),\n",
       "  ('annual', 0.017359797062550166)],\n",
       " 24: [('volvo', 0.3714740385270371),\n",
       "  ('daed', 0.12017266137207182),\n",
       "  ('reband', 0.10533228153429834),\n",
       "  ('ty', 0.08079865590173314),\n",
       "  ('o0o', 0.07605170650860811),\n",
       "  ('given', 0.07137495358953154),\n",
       "  ('gaem', 0.0700632326555094),\n",
       "  ('rip', 0.06453763374183162),\n",
       "  ('d3ad', 0.06380672801504876),\n",
       "  ('rulegg', 0.06062285885718426),\n",
       "  ('doretode', 0.057383577625080714),\n",
       "  ('govno', 0.054461316831116685),\n",
       "  ('alive', 0.05445178464091507),\n",
       "  ('giff', 0.0484982870857474),\n",
       "  ('aleiv', 0.04729040453348183),\n",
       "  ('dissapoint', 0.04729040453348183),\n",
       "  ('failvolvo', 0.04729040453348183),\n",
       "  ('frostivus', 0.04649545009254668),\n",
       "  ('fixing', 0.04563102390516486),\n",
       "  ('epic', 0.044681088558277904)],\n",
       " 25: [('money', 0.05969666905758932),\n",
       "  ('valve', 0.057663309380239176),\n",
       "  ('community', 0.052908468986515376),\n",
       "  ('care', 0.05092880560851751),\n",
       "  ('just', 0.034735939393036874),\n",
       "  ('does', 0.03282961822692154),\n",
       "  ('want', 0.03093667345297009),\n",
       "  ('users', 0.029743244524877692),\n",
       "  ('think', 0.02775450080146831),\n",
       "  ('things', 0.024391968624181477),\n",
       "  ('stop', 0.024391968624181477),\n",
       "  ('company', 0.02369368887666393),\n",
       "  ('players', 0.023506709147521253),\n",
       "  ('entire', 0.023182550911080603),\n",
       "  ('creation', 0.02269346202048524),\n",
       "  ('like', 0.02042373398132043),\n",
       "  ('ignoring', 0.019719390322870345),\n",
       "  ('store', 0.019719390322870345),\n",
       "  ('create', 0.019332982563734058),\n",
       "  ('weeks', 0.018664321597497063)],\n",
       " 26: [('hats', 0.16047326160526473),\n",
       "  ('dead', 0.09638515322076716),\n",
       "  ('hero', 0.06690009932068201),\n",
       "  ('months', 0.06126233174560034),\n",
       "  ('screwed', 0.05467763802014608),\n",
       "  ('valve', 0.05429753387334818),\n",
       "  ('bugfixing', 0.04845702693529756),\n",
       "  ('bug', 0.04688609988848292),\n",
       "  ('milk', 0.045601638850028804),\n",
       "  ('matchmakingbad', 0.045601638850028804),\n",
       "  ('cosmetiv', 0.045601638850028804),\n",
       "  ('bad', 0.04494311902195541),\n",
       "  ('cow', 0.0435757087623402),\n",
       "  ('2013', 0.04345645965690225),\n",
       "  ('release', 0.041864018585154664),\n",
       "  ('just', 0.041196766562661385),\n",
       "  ('bugs', 0.0407796437183228),\n",
       "  ('broken', 0.03645175868009739),\n",
       "  ('events', 0.035750601373370855),\n",
       "  ('sorry', 0.0352753214641596)],\n",
       " 27: [('fans', 0.10137933979544715),\n",
       "  ('lack', 0.095229785400066),\n",
       "  ('valve', 0.0730829365878241),\n",
       "  ('sore', 0.06522178032997397),\n",
       "  ('communication', 0.06058685233548045),\n",
       "  ('year', 0.059814301375840796),\n",
       "  ('notice', 0.05865166487442947),\n",
       "  ('community', 0.04631614331398671),\n",
       "  ('event', 0.04524472416173355),\n",
       "  ('fact', 0.0443950070850809),\n",
       "  ('said', 0.04249291518496572),\n",
       "  ('problem', 0.040909464145504434),\n",
       "  ('didn', 0.03894131850779596),\n",
       "  ('release', 0.03756518571306138),\n",
       "  ('does', 0.03636374774491784),\n",
       "  ('ashamed', 0.03589594789275924),\n",
       "  ('fuss', 0.03589594789275924),\n",
       "  ('braking', 0.03589594789275924),\n",
       "  ('anticipating', 0.03589594789275924),\n",
       "  ('enjooy', 0.03589594789275924)],\n",
       " 28: [('great', 0.03926007498869288),\n",
       "  ('10', 0.036330195220420115),\n",
       "  ('just', 0.032419622947710135),\n",
       "  ('people', 0.029353834177930187),\n",
       "  ('reviews', 0.027225972496077142),\n",
       "  ('year', 0.024933368084289958),\n",
       "  ('gave', 0.023095959447602215),\n",
       "  ('negative', 0.022934057855839594),\n",
       "  ('best', 0.02241853231795112),\n",
       "  ('spam', 0.019736363016136366),\n",
       "  ('score', 0.019667838350723575),\n",
       "  ('fun', 0.019575345666492446),\n",
       "  ('150', 0.018772280950448268),\n",
       "  ('good', 0.01874328436204211),\n",
       "  ('awesome', 0.01829167808410959),\n",
       "  ('love', 0.01829167808410959),\n",
       "  ('gameplay', 0.01813335860675633),\n",
       "  ('community', 0.018053028767089647),\n",
       "  ('retarded', 0.01772624883533384),\n",
       "  ('moba', 0.017687192650974543)],\n",
       " 29: [('valve', 0.09874988321307857),\n",
       "  ('diretide_give', 0.07525876182320967),\n",
       "  ('hl', 0.07525876182320967),\n",
       "  ('pediki', 0.07525876182320967),\n",
       "  ('mana', 0.07378404231944538),\n",
       "  ('plsvalve', 0.0713861957399852),\n",
       "  ('plsdiretide', 0.06206105858345396),\n",
       "  ('gaben', 0.060409854130880965),\n",
       "  ('thank', 0.05966369186763346),\n",
       "  ('glorious', 0.05395600811332017),\n",
       "  ('sexy', 0.05395600811332017),\n",
       "  ('beard', 0.05395600811332017),\n",
       "  ('pleas', 0.05017250788213979),\n",
       "  ('praise', 0.049189361546296925),\n",
       "  ('given', 0.049004141282517136),\n",
       "  ('event', 0.04454107370820737),\n",
       "  ('fair', 0.04320005623209107),\n",
       "  ('giving', 0.04285413984373359),\n",
       "  ('coming', 0.039650910744222584),\n",
       "  ('haloween', 0.037104865274887086)],\n",
       " 30: [('hats', 0.10268157472097812),\n",
       "  ('volvo', 0.09430458799546482),\n",
       "  ('hero', 0.06083125359788802),\n",
       "  ('disband', 0.05800882690692137),\n",
       "  ('new', 0.05423607936717408),\n",
       "  ('months', 0.048277594195252176),\n",
       "  ('money', 0.043886423896294394),\n",
       "  ('communication', 0.04365874353993213),\n",
       "  ('doto', 0.036867570683349615),\n",
       "  ('abandoned', 0.03587000424965521),\n",
       "  ('community', 0.03575925442019038),\n",
       "  ('make', 0.03496082713656702),\n",
       "  ('moar', 0.03375534629057515),\n",
       "  ('pls', 0.03197783230636589),\n",
       "  ('instead', 0.02842188339024365),\n",
       "  ('characters', 0.028312686873188442),\n",
       "  ('heroes', 0.027461405693718983),\n",
       "  ('dont', 0.026528010512271123),\n",
       "  ('tickets', 0.0253534041090433),\n",
       "  ('rip', 0.024878327969636693)]}"
      ]
     },
     "execution_count": 36,
     "metadata": {},
     "output_type": "execute_result"
    }
   ],
   "source": [
    "top_n_words_1"
   ]
  },
  {
   "cell_type": "code",
   "execution_count": 37,
   "id": "995dddd7",
   "metadata": {},
   "outputs": [
    {
     "data": {
      "text/html": [
       "<div>\n",
       "<style scoped>\n",
       "    .dataframe tbody tr th:only-of-type {\n",
       "        vertical-align: middle;\n",
       "    }\n",
       "\n",
       "    .dataframe tbody tr th {\n",
       "        vertical-align: top;\n",
       "    }\n",
       "\n",
       "    .dataframe thead th {\n",
       "        text-align: right;\n",
       "    }\n",
       "</style>\n",
       "<table border=\"1\" class=\"dataframe\">\n",
       "  <thead>\n",
       "    <tr style=\"text-align: right;\">\n",
       "      <th></th>\n",
       "      <th>Topic</th>\n",
       "      <th>Size</th>\n",
       "    </tr>\n",
       "  </thead>\n",
       "  <tbody>\n",
       "    <tr>\n",
       "      <th>0</th>\n",
       "      <td>-1</td>\n",
       "      <td>721</td>\n",
       "    </tr>\n",
       "    <tr>\n",
       "      <th>14</th>\n",
       "      <td>13</td>\n",
       "      <td>231</td>\n",
       "    </tr>\n",
       "    <tr>\n",
       "      <th>19</th>\n",
       "      <td>18</td>\n",
       "      <td>85</td>\n",
       "    </tr>\n",
       "    <tr>\n",
       "      <th>17</th>\n",
       "      <td>16</td>\n",
       "      <td>83</td>\n",
       "    </tr>\n",
       "    <tr>\n",
       "      <th>29</th>\n",
       "      <td>28</td>\n",
       "      <td>67</td>\n",
       "    </tr>\n",
       "    <tr>\n",
       "      <th>13</th>\n",
       "      <td>12</td>\n",
       "      <td>63</td>\n",
       "    </tr>\n",
       "    <tr>\n",
       "      <th>24</th>\n",
       "      <td>23</td>\n",
       "      <td>61</td>\n",
       "    </tr>\n",
       "    <tr>\n",
       "      <th>10</th>\n",
       "      <td>9</td>\n",
       "      <td>54</td>\n",
       "    </tr>\n",
       "    <tr>\n",
       "      <th>31</th>\n",
       "      <td>30</td>\n",
       "      <td>53</td>\n",
       "    </tr>\n",
       "    <tr>\n",
       "      <th>25</th>\n",
       "      <td>24</td>\n",
       "      <td>46</td>\n",
       "    </tr>\n",
       "  </tbody>\n",
       "</table>\n",
       "</div>"
      ],
      "text/plain": [
       "    Topic  Size\n",
       "0      -1   721\n",
       "14     13   231\n",
       "19     18    85\n",
       "17     16    83\n",
       "29     28    67\n",
       "13     12    63\n",
       "24     23    61\n",
       "10      9    54\n",
       "31     30    53\n",
       "25     24    46"
      ]
     },
     "execution_count": 37,
     "metadata": {},
     "output_type": "execute_result"
    }
   ],
   "source": [
    "\n",
    "topic_sizes_1 = extract_topic_sizes(docs_df); topic_sizes_1.head(10)"
   ]
  },
  {
   "cell_type": "code",
   "execution_count": 44,
   "id": "4e9b643c",
   "metadata": {},
   "outputs": [],
   "source": [
    "top_n_words_2 = extract_top_n_words_per_topic(tf_idf_2, count_2, docs_per_topic_2, n=20)"
   ]
  },
  {
   "cell_type": "code",
   "execution_count": 48,
   "id": "777045cc",
   "metadata": {},
   "outputs": [
    {
     "data": {
      "text/html": [
       "<div>\n",
       "<style scoped>\n",
       "    .dataframe tbody tr th:only-of-type {\n",
       "        vertical-align: middle;\n",
       "    }\n",
       "\n",
       "    .dataframe tbody tr th {\n",
       "        vertical-align: top;\n",
       "    }\n",
       "\n",
       "    .dataframe thead th {\n",
       "        text-align: right;\n",
       "    }\n",
       "</style>\n",
       "<table border=\"1\" class=\"dataframe\">\n",
       "  <thead>\n",
       "    <tr style=\"text-align: right;\">\n",
       "      <th></th>\n",
       "      <th>Topic</th>\n",
       "      <th>Size</th>\n",
       "    </tr>\n",
       "  </thead>\n",
       "  <tbody>\n",
       "    <tr>\n",
       "      <th>1</th>\n",
       "      <td>0</td>\n",
       "      <td>1680</td>\n",
       "    </tr>\n",
       "    <tr>\n",
       "      <th>0</th>\n",
       "      <td>-1</td>\n",
       "      <td>70</td>\n",
       "    </tr>\n",
       "    <tr>\n",
       "      <th>7</th>\n",
       "      <td>6</td>\n",
       "      <td>40</td>\n",
       "    </tr>\n",
       "    <tr>\n",
       "      <th>5</th>\n",
       "      <td>4</td>\n",
       "      <td>33</td>\n",
       "    </tr>\n",
       "    <tr>\n",
       "      <th>3</th>\n",
       "      <td>2</td>\n",
       "      <td>31</td>\n",
       "    </tr>\n",
       "    <tr>\n",
       "      <th>6</th>\n",
       "      <td>5</td>\n",
       "      <td>25</td>\n",
       "    </tr>\n",
       "    <tr>\n",
       "      <th>2</th>\n",
       "      <td>1</td>\n",
       "      <td>20</td>\n",
       "    </tr>\n",
       "    <tr>\n",
       "      <th>4</th>\n",
       "      <td>3</td>\n",
       "      <td>17</td>\n",
       "    </tr>\n",
       "    <tr>\n",
       "      <th>9</th>\n",
       "      <td>8</td>\n",
       "      <td>16</td>\n",
       "    </tr>\n",
       "    <tr>\n",
       "      <th>8</th>\n",
       "      <td>7</td>\n",
       "      <td>15</td>\n",
       "    </tr>\n",
       "  </tbody>\n",
       "</table>\n",
       "</div>"
      ],
      "text/plain": [
       "   Topic  Size\n",
       "1      0  1680\n",
       "0     -1    70\n",
       "7      6    40\n",
       "5      4    33\n",
       "3      2    31\n",
       "6      5    25\n",
       "2      1    20\n",
       "4      3    17\n",
       "9      8    16\n",
       "8      7    15"
      ]
     },
     "execution_count": 48,
     "metadata": {},
     "output_type": "execute_result"
    }
   ],
   "source": [
    "\n",
    "topic_sizes_2 = extract_topic_sizes(docs_df_2); topic_sizes_2.head(10)"
   ]
  },
  {
   "cell_type": "code",
   "execution_count": 42,
   "id": "667a6d96",
   "metadata": {
    "scrolled": true
   },
   "outputs": [
    {
     "data": {
      "image/png": "[encoded data removed]",
      "text/plain": [
       "<Figure size 1440x720 with 2 Axes>"
      ]
     },
     "metadata": {
      "needs_background": "light"
     },
     "output_type": "display_data"
    }
   ],
   "source": [
    "# Prepare data\n",
    "umap_data = umap.UMAP(n_neighbors=15, n_components=2, min_dist=0.0, metric='cosine').fit_transform(umap_embeddings_1)\n",
    "result = pd.DataFrame(umap_data, columns=['x', 'y'])\n",
    "result['labels'] = cluster_1.labels_\n",
    "\n",
    "# Visualize clusters\n",
    "fig, ax = plt.subplots(figsize=(20, 10))\n",
    "outliers = result.loc[result.labels == -1, :]\n",
    "clustered = result.loc[result.labels != -1, :]\n",
    "plt.scatter(outliers.x, outliers.y, color='#BDBDBD', s=0.05)\n",
    "plt.scatter(clustered.x, clustered.y, c=clustered.labels, s=0.05, cmap='hsv_r')\n",
    "plt.colorbar()\n",
    "ax.set_facecolor('xkcd:black')"
   ]
  },
  {
   "cell_type": "code",
   "execution_count": 43,
   "id": "5fbb049d",
   "metadata": {},
   "outputs": [
    {
     "data": {
      "image/png": "[encoded data removed]",
      "text/plain": [
       "<Figure size 1440x720 with 2 Axes>"
      ]
     },
     "metadata": {
      "needs_background": "light"
     },
     "output_type": "display_data"
    }
   ],
   "source": [
    "# Prepare data\n",
    "umap_data = umap.UMAP(n_neighbors=15, n_components=2, min_dist=0.0, metric='cosine').fit_transform(umap_embeddings_2)\n",
    "result = pd.DataFrame(umap_data, columns=['x', 'y'])\n",
    "result['labels'] = cluster_2.labels_\n",
    "\n",
    "# Visualize clusters\n",
    "fig, ax = plt.subplots(figsize=(20, 10))\n",
    "outliers = result.loc[result.labels == -1, :]\n",
    "clustered = result.loc[result.labels != -1, :]\n",
    "plt.scatter(outliers.x, outliers.y, color='#BDBDBD', s=0.05)\n",
    "plt.scatter(clustered.x, clustered.y, c=clustered.labels, s=0.05, cmap='hsv_r')\n",
    "plt.colorbar()\n",
    "ax.set_facecolor('xkcd:black')"
   ]
  },
  {
   "cell_type": "markdown",
   "id": "80a2ef67",
   "metadata": {},
   "source": [
    "### Paraphrasing with BERT"
   ]
  },
  {
   "cell_type": "code",
   "execution_count": 46,
   "id": "1cb2d84d",
   "metadata": {
    "scrolled": true
   },
   "outputs": [
    {
     "name": "stdout",
     "output_type": "stream",
     "text": [
      "DiretideDiretideDiretideDiretideDiretideDiretideDiretideDiretideDiretideDiretideDiretideDiretideDiretideDiretideDiretideDiretideDiretideDiretideDiretideDiretideDiretideDiretideDiretideDiretideDiretideDiretideDiretideDiretideDiretideDiretideDiretideDiretideDiretideDiretideDiretideDiretideDiretideDiretideDiretideDiretideDiretideDiretideDiretideDiretideDiretide \t\t fdfdfdfdfdfdfdfdfdfdfdfdfdfdfdfdfdfdfdfdfdfdfdfdfdfdfdfdfdfdfdfdfdfdfdfdfdfdfdfdfdfdfdfdfdfdfdfdfdfdfdfdfdfdfdfdfdfdfdfdfdfdfdfdfdfdfdfdfdfdfdfdfdfdfdfdfdfdfdfdfdfdfdfdfdfdfdfdfdfdfdfdfdfdfdfdfdfdfdfdfdfdfdfdfd \t\t Score: 1.0000\n",
      "DiretideDiretideDiretideDiretideDiretideDiretideDiretideDiretideDiretideDiretideDiretideDiretideDiretideDiretideDiretideDiretideDiretideDiretideDiretideDiretideDiretideDiretideDiretideDiretideDiretideDiretideDiretideDiretideDiretideDiretideDiretideDiretideDiretideDiretideDiretideDiretideDiretideDiretideDiretideDiretideDiretideDiretideDiretideDiretideDiretide \t\t DiretideDiretideDiretideDiretideDiretideDiretideDiretideDiretideDiretideDiretideDiretideDiretideDiretideDiretideDiretideDiretideDiretideDiretideDiretideDiretideDiretideDiretideDiretideDiretideDiretideDiretideDiretideDiretideDiretideDiretideDiretideDiretideDiretideDiretideDiretideDiretideDiretideDiretideDiretideDiretideDiretideDiretideDiretideDiretideDiretideDiretideDiretideDiretide \t\t Score: 1.0000\n",
      "DiretideDiretideDiretideDiretideDiretideDiretideDiretideDiretideDiretideDiretideDiretideDiretideDiretideDiretideDiretideDiretideDiretideDiretideDiretideDiretideDiretideDiretideDiretideDiretideDiretideDiretideDiretideDiretideDiretideDiretideDiretideDiretideDiretideDiretideDiretideDiretideDiretideDiretideDiretideDiretideDiretideDiretideDiretideDiretideDiretide \t\t GGDiretideDiretideDiretideDiretideDiretideDiretideDiretideDiretideDiretideDiretideDiretideDiretideDiretideDiretideDiretideDiretideDiretideDiretideDiretideDiretideDiretideDiretide \t\t Score: 1.0000\n",
      "DiretideDiretideDiretideDiretideDiretideDiretideDiretideDiretideDiretideDiretideDiretideDiretideDiretideDiretideDiretideDiretideDiretideDiretideDiretideDiretideDiretideDiretideDiretideDiretideDiretideDiretideDiretideDiretideDiretideDiretideDiretideDiretideDiretideDiretideDiretideDiretideDiretideDiretideDiretideDiretideDiretideDiretideDiretideDiretideDiretide \t\t DireTideDireTideDireTideDireTideDireTideDireTideDireTideDireTideDireTideDireTideDireTideDireTideDireTideDireTideDireTideDireTideDireTideDireTideDireTideDireTide \t\t Score: 1.0000\n",
      "DiretideDiretideDiretideDiretideDiretideDiretideDiretideDiretideDiretideDiretideDiretideDiretideDiretideDiretideDiretideDiretideDiretideDiretideDiretideDiretideDiretideDiretideDiretideDiretideDiretideDiretideDiretideDiretideDiretideDiretideDiretideDiretideDiretideDiretideDiretideDiretideDiretideDiretideDiretideDiretideDiretideDiretideDiretideDiretideDiretide \t\t hrewhoaaaaaaaaaaaaafdhhhhhhhhhhhhhhhhhhhhhhhhhhhhhhhhhhhhhhhhhhhhhhhhhhhhhhhhhhhhhhhhhhhhhhhhhhhhhhhhhhhhhhhhhhhhhhhhhhhhhhhhhhhhhhhhhhhhhhhhhhhhhhhhhhhhhhhhhhhhhhhhhhhhhhhhhhhhhhhhhhhhhhhhhhhhhhhhhhhhhhhhhhhhhhhhhhhhhhhhhhhhhhhhhhhhhhhhhhhhhhhhhhhhhhhhhhhhhhhhhhhhhhhhhhhhhhhhhhhhhhhhhhhhhhhhhhhhhhhhhhhh \t\t Score: 1.0000\n",
      "DiretideDiretideDiretideDiretideDiretideDiretideDiretideDiretideDiretideDiretideDiretideDiretideDiretideDiretideDiretideDiretideDiretideDiretideDiretideDiretideDiretideDiretideDiretideDiretideDiretideDiretideDiretideDiretideDiretideDiretideDiretideDiretideDiretideDiretideDiretideDiretideDiretideDiretideDiretideDiretideDiretideDiretideDiretideDiretideDiretide \t\t DireTireDireTireDireTireDireTireDireTireDireTireDireTireDireTireDireTireDireTireDireTireDireTireDireTireDireTireDireTireDireTireDireTireDireTireDireTire \t\t Score: 1.0000\n",
      "DiretideDiretideDiretideDiretideDiretideDiretideDiretideDiretideDiretideDiretideDiretideDiretideDiretideDiretideDiretideDiretideDiretideDiretideDiretideDiretideDiretideDiretideDiretideDiretideDiretideDiretideDiretideDiretideDiretideDiretideDiretideDiretideDiretideDiretideDiretideDiretideDiretideDiretideDiretideDiretideDiretideDiretideDiretideDiretideDiretide \t\t adasdadadadasdadqeqweqweqeqeqweadasdadadadasdadqeqweqweqeqeqweadasdadadadasdadqeqweqweqeqeqweadasdadadadasdadqeqweqweqeqeqweadasdadadadasdadqeqweqweqeqeqweadasdadadadasdadqeqweqweqeqeqwe \t\t Score: 1.0000\n",
      "DiretideDiretideDiretideDiretideDiretideDiretideDiretideDiretideDiretideDiretideDiretideDiretideDiretideDiretideDiretideDiretideDiretideDiretideDiretideDiretideDiretideDiretideDiretideDiretideDiretideDiretideDiretideDiretideDiretideDiretideDiretideDiretideDiretideDiretideDiretideDiretideDiretideDiretideDiretideDiretideDiretideDiretideDiretideDiretideDiretide \t\t OOOOOOOOOOOOooooooooooooooooooooOOOOOOOOOOOOOOOOooooooooooooOOOOOOOOOOOOooooooooooooooooooooOOOOOOOOOOOOOOOOooooooooooooOOOOOOOOOOOOooooooooooooooooooooOOOOOOOOOOOOOOOOoooooooooooo \t\t Score: 1.0000\n",
      "DiretideDiretideDiretideDiretideDiretideDiretideDiretideDiretideDiretideDiretideDiretideDiretideDiretideDiretideDiretideDiretideDiretideDiretideDiretideDiretideDiretideDiretideDiretideDiretideDiretideDiretideDiretideDiretideDiretideDiretideDiretideDiretideDiretideDiretideDiretideDiretideDiretideDiretideDiretideDiretideDiretideDiretideDiretideDiretideDiretide \t\t valvevalvevalvevalvevalvevalvevalvevalvevalvevalvevalvevalvevalvevalvevalvevalvevalvevalvevalvevalvevalvevalvevalvevalvevalvevalvevalvevalvevalvevalvevalvevalvevalvevalvevalvevalvevalvevalvevalvevalvevalvevalvevalvevalvevalvevalvevalvevalvevalve \t\t Score: 1.0000\n",
      "fdfdfdfdfdfdfdfdfdfdfdfdfdfdfdfdfdfdfdfdfdfdfdfdfdfdfdfdfdfdfdfdfdfdfdfdfdfdfdfdfdfdfdfdfdfdfdfdfdfdfdfdfdfdfdfdfdfdfdfdfdfdfdfdfdfdfdfdfdfdfdfdfdfdfdfdfdfdfdfdfdfdfdfdfdfdfdfdfdfdfdfdfdfdfdfdfdfdfdfdfdfdfdfdfd \t\t DiretideDiretideDiretideDiretideDiretideDiretideDiretideDiretideDiretideDiretideDiretideDiretideDiretideDiretideDiretideDiretideDiretideDiretideDiretideDiretideDiretideDiretideDiretideDiretideDiretideDiretideDiretideDiretideDiretideDiretideDiretideDiretideDiretideDiretideDiretideDiretideDiretideDiretideDiretideDiretideDiretideDiretideDiretideDiretideDiretideDiretideDiretideDiretide \t\t Score: 1.0000\n"
     ]
    }
   ],
   "source": [
    "paraphrases = util.paraphrase_mining(model_mpnet, reviews)\n",
    "\n",
    "for paraphrase in paraphrases[0:10]:\n",
    "    score, i, j = paraphrase\n",
    "    print(\"{} \\t\\t {} \\t\\t Score: {:.4f}\".format(reviews[i], reviews[j], score))"
   ]
  },
  {
   "cell_type": "code",
   "execution_count": null,
   "id": "657cd25d",
   "metadata": {},
   "outputs": [],
   "source": [
    "## fuck"
   ]
  },
  {
   "cell_type": "markdown",
   "id": "52a05cdc",
   "metadata": {},
   "source": [
    "## Sentiment Analysis with Vader"
   ]
  },
  {
   "cell_type": "markdown",
   "id": "05928be8",
   "metadata": {},
   "source": [
    "#### BERT model we will optimise later"
   ]
  },
  {
   "cell_type": "code",
   "execution_count": null,
   "id": "c50972c6",
   "metadata": {},
   "outputs": [],
   "source": [
    "model_tf= TFBertForSequenceClassification.from_pretrained(\"bert-base-uncased\")\n",
    "tokenizer_tf = BertTokenizer.from_pretrained(\"bert-base-uncased\")"
   ]
  },
  {
   "cell_type": "code",
   "execution_count": null,
   "id": "0ae63c54",
   "metadata": {},
   "outputs": [],
   "source": [
    "model_tf.summary()"
   ]
  },
  {
   "cell_type": "code",
   "execution_count": null,
   "id": "0a2c04b2",
   "metadata": {},
   "outputs": [],
   "source": [
    "df['scores'] = df['review'].apply(lambda review: sid.polarity_scores(review))"
   ]
  },
  {
   "cell_type": "markdown",
   "id": "70958f4a",
   "metadata": {},
   "source": [
    "#### clean and explore dataframe"
   ]
  },
  {
   "cell_type": "code",
   "execution_count": null,
   "id": "c9ecb568",
   "metadata": {},
   "outputs": [],
   "source": [
    "ls = []\n",
    "\n",
    "for index, row in df.iterrows():\n",
    "    if row['rating'] >=5:\n",
    "        hum_lab = 'POS'\n",
    "    else:\n",
    "        hum_lab = 'NEG'\n",
    "        \n",
    "    ls.append(hum_lab)"
   ]
  },
  {
   "cell_type": "code",
   "execution_count": null,
   "id": "5052db31",
   "metadata": {},
   "outputs": [],
   "source": [
    "df['human_labels'] = ls"
   ]
  },
  {
   "cell_type": "code",
   "execution_count": null,
   "id": "8b2c278c",
   "metadata": {},
   "outputs": [],
   "source": [
    "df['compound']  = df['scores'].apply(lambda score_dict: score_dict['compound'])\n",
    "\n",
    "df.head()"
   ]
  },
  {
   "cell_type": "code",
   "execution_count": null,
   "id": "85aaec68",
   "metadata": {},
   "outputs": [],
   "source": [
    "df = df.iloc[: , 1:]"
   ]
  },
  {
   "cell_type": "code",
   "execution_count": null,
   "id": "7f45e90b",
   "metadata": {},
   "outputs": [],
   "source": [
    "df = df.iloc[: , 1:]"
   ]
  },
  {
   "cell_type": "code",
   "execution_count": null,
   "id": "41564ea6",
   "metadata": {},
   "outputs": [],
   "source": [
    "df"
   ]
  },
  {
   "cell_type": "code",
   "execution_count": null,
   "id": "32d968bd",
   "metadata": {},
   "outputs": [],
   "source": [
    "df['comp_score'] = df['compound'].apply(lambda c: 'pos' if c >=0 else 'neg')\n",
    "\n",
    "df.head()"
   ]
  },
  {
   "cell_type": "code",
   "execution_count": null,
   "id": "445c2d51",
   "metadata": {},
   "outputs": [],
   "source": [
    "### check the distribution"
   ]
  },
  {
   "cell_type": "code",
   "execution_count": null,
   "id": "26213a26",
   "metadata": {},
   "outputs": [],
   "source": [
    "check_comp = df['compound'].to_list()"
   ]
  },
  {
   "cell_type": "code",
   "execution_count": null,
   "id": "533064ec",
   "metadata": {},
   "outputs": [],
   "source": [
    "std_dev = statistics.stdev(check_comp)"
   ]
  },
  {
   "cell_type": "code",
   "execution_count": null,
   "id": "f8548032",
   "metadata": {},
   "outputs": [],
   "source": [
    "mean = np.mean(check_comp)"
   ]
  },
  {
   "cell_type": "code",
   "execution_count": null,
   "id": "e13a3cf0",
   "metadata": {},
   "outputs": [],
   "source": [
    "snd = norm(mean,std_dev)"
   ]
  },
  {
   "cell_type": "code",
   "execution_count": null,
   "id": "d18fc5a1",
   "metadata": {},
   "outputs": [],
   "source": [
    "plt.figure(figsize=(7.5,7.5))\n",
    "plt.plot(x, snd.pdf(x))\n",
    "plt.xlim(-60, 60)\n",
    "plt.title('Normal Distribution (Mean = {}, STD = {})'.format(mean,std_dev), fontsize='15')\n",
    "plt.xlabel('Values of Random Variable X', fontsize='15')\n",
    "plt.ylabel('Probability', fontsize='15')\n",
    "plt.show()"
   ]
  },
  {
   "cell_type": "code",
   "execution_count": null,
   "id": "753b7f31",
   "metadata": {},
   "outputs": [],
   "source": [
    "x = np.linspace(-1000000000, 10000, 100000000)"
   ]
  },
  {
   "cell_type": "code",
   "execution_count": null,
   "id": "d9079fce",
   "metadata": {},
   "outputs": [],
   "source": []
  },
  {
   "cell_type": "code",
   "execution_count": null,
   "id": "ba9d4996",
   "metadata": {},
   "outputs": [],
   "source": [
    "df.rename(columns={'comp_score':'vader_score'}, inplace=True)"
   ]
  },
  {
   "cell_type": "code",
   "execution_count": null,
   "id": "77d3e9a5",
   "metadata": {},
   "outputs": [],
   "source": [
    "ls2 = []\n",
    "\n",
    "for index, row in df.iterrows():\n",
    "    if row['vader_score'] == 'pos':\n",
    "        sk_label_vader = 1\n",
    "        ls2.append(sk_label_vader)\n",
    "    else:\n",
    "        sk_label_vader = 0\n",
    "        ls2.append(sk_label_vader)\n",
    "\n",
    "df['sk_vader_score'] = ls2\n",
    "        \n",
    "        "
   ]
  },
  {
   "cell_type": "code",
   "execution_count": null,
   "id": "65b79cd7",
   "metadata": {},
   "outputs": [],
   "source": [
    "ls3 = []\n",
    "\n",
    "for index, row in df.iterrows():\n",
    "    if row['human_labels'] == 'POS':\n",
    "        sk_label = 1\n",
    "        ls3.append(sk_label_vader)\n",
    "    else:\n",
    "        sk_label = 0\n",
    "        ls3.append(sk_label)\n",
    "\n",
    "df['sk_human_score'] = ls3\n",
    "        \n",
    "        "
   ]
  },
  {
   "cell_type": "code",
   "execution_count": null,
   "id": "81e6eec0",
   "metadata": {},
   "outputs": [],
   "source": [
    "df"
   ]
  },
  {
   "cell_type": "code",
   "execution_count": null,
   "id": "b812b242",
   "metadata": {},
   "outputs": [],
   "source": [
    "## test on vader first"
   ]
  },
  {
   "cell_type": "code",
   "execution_count": null,
   "id": "bfc7f55f",
   "metadata": {},
   "outputs": [],
   "source": [
    "X = df['review']\n",
    "\n",
    "y  = df['sk_vader_score']\n",
    "\n",
    "X_train, X_test, y_train, y_test = train_test_split(X,y,test_size=0.8)"
   ]
  },
  {
   "cell_type": "code",
   "execution_count": null,
   "id": "8aaea250",
   "metadata": {},
   "outputs": [],
   "source": [
    "X_train"
   ]
  },
  {
   "cell_type": "code",
   "execution_count": null,
   "id": "c60d74cb",
   "metadata": {},
   "outputs": [],
   "source": [
    "test = pd.DataFrame(zip(X_train,y_train))"
   ]
  },
  {
   "cell_type": "code",
   "execution_count": null,
   "id": "f867e173",
   "metadata": {},
   "outputs": [],
   "source": [
    "train = pd.DataFrame(zip(X_test,y_test))"
   ]
  },
  {
   "cell_type": "code",
   "execution_count": null,
   "id": "298d8bae",
   "metadata": {},
   "outputs": [],
   "source": [
    "train.columns = [\"DATA_COLUMN\",\"LABEL_COLUMN\"]"
   ]
  },
  {
   "cell_type": "code",
   "execution_count": null,
   "id": "efba7739",
   "metadata": {
    "scrolled": true
   },
   "outputs": [],
   "source": [
    "test.columns = [\"DATA_COLUMN\",\"LABEL_COLUMN\"]"
   ]
  },
  {
   "cell_type": "code",
   "execution_count": null,
   "id": "98886bc9",
   "metadata": {
    "scrolled": true
   },
   "outputs": [],
   "source": [
    "train.info()"
   ]
  },
  {
   "cell_type": "code",
   "execution_count": null,
   "id": "f1a6418c",
   "metadata": {},
   "outputs": [],
   "source": [
    "test.info()"
   ]
  },
  {
   "cell_type": "code",
   "execution_count": null,
   "id": "e14ca9fb",
   "metadata": {},
   "outputs": [],
   "source": [
    "train_InputExamples, validation_InputExamples = convert_data_to_examples(train, test, DATA_COLUMN, LABEL_COLUMN)\n",
    "\n",
    "train_data = convert_examples_to_tf_dataset(list(train_InputExamples), tokenizer)\n",
    "\n",
    "train_data = train_data.shuffle(100).batch(32).repeat(2)\n",
    "\n",
    "validation_data = convert_examples_to_tf_dataset(list(validation_InputExamples), tokenizer)\n",
    "validation_data = validation_data.batch(32)"
   ]
  },
  {
   "cell_type": "markdown",
   "id": "aa56aa3a",
   "metadata": {},
   "source": [
    "#### Fine tune with BERT"
   ]
  },
  {
   "cell_type": "code",
   "execution_count": null,
   "id": "fdfe3a03",
   "metadata": {},
   "outputs": [],
   "source": [
    "model.compile(optimizer=tf.keras.optimizers.Adam(learning_rate=3e-5, epsilon=1e-08, clipnorm=1.0), \n",
    "              loss=tf.keras.losses.SparseCategoricalCrossentropy(from_logits=True), \n",
    "              metrics=[tf.keras.metrics.SparseCategoricalAccuracy('accuracy')])\n",
    "\n",
    "model.fit(train_data, epochs=2, validation_data=validation_data)"
   ]
  },
  {
   "cell_type": "code",
   "execution_count": null,
   "id": "f1c492ce",
   "metadata": {},
   "outputs": [],
   "source": [
    "pred_sentences = [\"Definitely best MOBA out there. Game is very complicated and difficult to learn for those who have never played similar games before, but in my opinion complexity is not a flaw. Due to frequent updates Dota 2 never gets repetitive and manages to adapt without changing its core aspects.\",\"Boring Game. Bad servers. The game keeps disconnecting. Players are rude.  when I was going to play my first match I discovered that the community is really unsupportive not beginner-friendly\"]"
   ]
  },
  {
   "cell_type": "code",
   "execution_count": null,
   "id": "e8e6f0c9",
   "metadata": {},
   "outputs": [],
   "source": [
    "### test the fine-tuned model"
   ]
  },
  {
   "cell_type": "code",
   "execution_count": null,
   "id": "e8588478",
   "metadata": {},
   "outputs": [],
   "source": [
    "test_this = test['DATA_COLUMN'].to_list()\n",
    "\n",
    "\n",
    "tf_batch = tokenizer(test_this, max_length=128, padding=True, truncation=True, return_tensors='tf')\n",
    "tf_outputs = model(tf_batch)\n",
    "tf_predictions = tf.nn.softmax(tf_outputs[0], axis=-1)\n",
    "labels = ['Negative','Positive']\n",
    "label = tf.argmax(tf_predictions, axis=1)\n",
    "label = label.numpy()\n"
   ]
  },
  {
   "cell_type": "code",
   "execution_count": null,
   "id": "c670098e",
   "metadata": {},
   "outputs": [],
   "source": [
    "for i in range(len(test_this)):\n",
    "      print(test_this[i], \": \\n\", labels[label[i]])        "
   ]
  },
  {
   "cell_type": "code",
   "execution_count": null,
   "id": "f88f4996",
   "metadata": {},
   "outputs": [],
   "source": []
  }
 ],
 "metadata": {
  "kernelspec": {
   "display_name": "Python 3",
   "language": "python",
   "name": "python3"
  },
  "language_info": {
   "codemirror_mode": {
    "name": "ipython",
    "version": 3
   },
   "file_extension": ".py",
   "mimetype": "text/x-python",
   "name": "python",
   "nbconvert_exporter": "python",
   "pygments_lexer": "ipython3",
   "version": "3.8.8"
  }
 },
 "nbformat": 4,
 "nbformat_minor": 5
}
